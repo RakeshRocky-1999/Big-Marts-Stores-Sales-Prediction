{
 "cells": [
  {
   "cell_type": "code",
   "execution_count": 1,
   "metadata": {},
   "outputs": [
    {
     "name": "stdout",
     "output_type": "stream",
     "text": [
      "Requirement already satisfied: cassandra-driver in c:\\users\\pc\\onedrive\\documents\\main_projects\\sales_store_predictions\\bigmarts_env\\lib\\site-packages (3.29.2)\n",
      "Requirement already satisfied: geomet<0.3,>=0.1 in c:\\users\\pc\\onedrive\\documents\\main_projects\\sales_store_predictions\\bigmarts_env\\lib\\site-packages (from cassandra-driver) (0.2.1.post1)\n",
      "Requirement already satisfied: click in c:\\users\\pc\\onedrive\\documents\\main_projects\\sales_store_predictions\\bigmarts_env\\lib\\site-packages (from geomet<0.3,>=0.1->cassandra-driver) (8.1.7)\n",
      "Requirement already satisfied: six in c:\\users\\pc\\onedrive\\documents\\main_projects\\sales_store_predictions\\bigmarts_env\\lib\\site-packages (from geomet<0.3,>=0.1->cassandra-driver) (1.16.0)\n",
      "Requirement already satisfied: colorama in c:\\users\\pc\\onedrive\\documents\\main_projects\\sales_store_predictions\\bigmarts_env\\lib\\site-packages (from click->geomet<0.3,>=0.1->cassandra-driver) (0.4.6)\n"
     ]
    }
   ],
   "source": [
    "!pip install cassandra-driver\n"
   ]
  },
  {
   "cell_type": "code",
   "execution_count": 2,
   "metadata": {},
   "outputs": [],
   "source": [
    "\n",
    "import logger \n",
    "\n",
    "# Log the start of the notebook\n",
    "logger.logging.info('Starting the Cassandra Database operations.')"
   ]
  },
  {
   "cell_type": "code",
   "execution_count": 20,
   "metadata": {},
   "outputs": [
    {
     "name": "stdout",
     "output_type": "stream",
     "text": [
      "-\n",
      "<cassandra.cluster.Session object at 0x000002D87904B8B0>\n"
     ]
    }
   ],
   "source": [
    "from cassandra.cluster import Cluster\n",
    "from cassandra.auth import PlainTextAuthProvider\n",
    "import json\n",
    "import os\n",
    "\n",
    "\n",
    "# Ensure these paths are correct\n",
    "secure_connect_bundle_path = os.path.join(os.getcwd(), 'secure-connect-big-mart.zip')\n",
    "token_json_path = os.path.join(os.getcwd(), 'your-token.json')\n",
    "\n",
    "# Load credentials from the token JSON\n",
    "logger.logging.info('Loading credentials from the token JSON.')\n",
    "with open('big_mart-token.json') as f:\n",
    "    secrets = json.load(f)\n",
    "\n",
    "CLIENT_ID = secrets[\"clientId\"]\n",
    "CLIENT_SECRET = secrets[\"secret\"]\n",
    "\n",
    "# Configure cluster with secure connect bundle and authentication\n",
    "cloud_config = {\n",
    "    'secure_connect_bundle': secure_connect_bundle_path\n",
    "}\n",
    "auth_provider = PlainTextAuthProvider(CLIENT_ID, CLIENT_SECRET)\n",
    "\n",
    "# Create connection to the Cassandra cluster\n",
    "try:\n",
    "    cluster = Cluster(cloud=cloud_config, auth_provider=auth_provider)\n",
    "    session = cluster.connect()\n",
    "\n",
    "    # Test query\n",
    "    row = session.execute(\"select release_version from system.local\").one()\n",
    "    if row:\n",
    "        print('-')\n",
    "        logger.logging.info(f\"Cassandra release version: {row[0]}\")\n",
    "    else:\n",
    "        print('-')\n",
    "        logger.logging.warning(\"An error occurred while fetching the release version.\")\n",
    "\n",
    "except Exception as e:\n",
    "    print('-')\n",
    "    logger.logging.error(f\"An error occurred: {e}\")\n",
    "\n",
    "print(session)"
   ]
  },
  {
   "cell_type": "code",
   "execution_count": 21,
   "metadata": {},
   "outputs": [
    {
     "data": {
      "text/plain": [
       "<cassandra.cluster.ResultSet at 0x2d87904e5e0>"
      ]
     },
     "execution_count": 21,
     "metadata": {},
     "output_type": "execute_result"
    }
   ],
   "source": [
    "# Use the keyspace\n",
    "logger.logging.info('Setting the keyspace to \"sales_prediction\".')\n",
    "session.set_keyspace('sales_prediction')\n",
    "\n",
    "# Configure paging (adjust fetch size for larger datasets)\n",
    "session.default_fetch_size = 10000  # Explicitly set the fetch size to handle larger datasets\n",
    "\n",
    "\n",
    "# Create table for sales data\n",
    "logger.logging.info('Creating the sales_data table if it doesn\\'t exist.')\n",
    "session.execute(\"\"\"\n",
    "    CREATE TABLE IF NOT EXISTS sales_data (\n",
    "        item_identifier TEXT PRIMARY KEY,\n",
    "        item_weight FLOAT,\n",
    "        item_fat_content TEXT,\n",
    "        item_visibility FLOAT,\n",
    "        item_type TEXT,\n",
    "        item_mrp FLOAT,\n",
    "        outlet_identifier TEXT,\n",
    "        outlet_establishment_year INT,\n",
    "        outlet_size TEXT,\n",
    "        outlet_location_type TEXT,\n",
    "        outlet_type TEXT,\n",
    "        item_outlet_sales FLOAT\n",
    "    )\n",
    "\"\"\")\n",
    "logger.logging.info(\"Table created successfully.\")\n"
   ]
  },
  {
   "cell_type": "code",
   "execution_count": 6,
   "metadata": {},
   "outputs": [
    {
     "name": "stdout",
     "output_type": "stream",
     "text": [
      "Requirement already satisfied: pandas in c:\\users\\pc\\onedrive\\documents\\main_projects\\sales_store_predictions\\bigmarts_env\\lib\\site-packages (2.0.3)\n",
      "Requirement already satisfied: python-dateutil>=2.8.2 in c:\\users\\pc\\onedrive\\documents\\main_projects\\sales_store_predictions\\bigmarts_env\\lib\\site-packages (from pandas) (2.9.0)\n",
      "Requirement already satisfied: pytz>=2020.1 in c:\\users\\pc\\onedrive\\documents\\main_projects\\sales_store_predictions\\bigmarts_env\\lib\\site-packages (from pandas) (2024.2)\n",
      "Requirement already satisfied: tzdata>=2022.1 in c:\\users\\pc\\onedrive\\documents\\main_projects\\sales_store_predictions\\bigmarts_env\\lib\\site-packages (from pandas) (2024.2)\n",
      "Requirement already satisfied: numpy>=1.20.3 in c:\\users\\pc\\onedrive\\documents\\main_projects\\sales_store_predictions\\bigmarts_env\\lib\\site-packages (from pandas) (1.24.4)\n",
      "Requirement already satisfied: six>=1.5 in c:\\users\\pc\\onedrive\\documents\\main_projects\\sales_store_predictions\\bigmarts_env\\lib\\site-packages (from python-dateutil>=2.8.2->pandas) (1.16.0)\n"
     ]
    }
   ],
   "source": [
    "!pip install pandas"
   ]
  },
  {
   "cell_type": "code",
   "execution_count": 22,
   "metadata": {},
   "outputs": [
    {
     "data": {
      "text/html": [
       "<div>\n",
       "<style scoped>\n",
       "    .dataframe tbody tr th:only-of-type {\n",
       "        vertical-align: middle;\n",
       "    }\n",
       "\n",
       "    .dataframe tbody tr th {\n",
       "        vertical-align: top;\n",
       "    }\n",
       "\n",
       "    .dataframe thead th {\n",
       "        text-align: right;\n",
       "    }\n",
       "</style>\n",
       "<table border=\"1\" class=\"dataframe\">\n",
       "  <thead>\n",
       "    <tr style=\"text-align: right;\">\n",
       "      <th></th>\n",
       "      <th>Item_Identifier</th>\n",
       "      <th>Item_Weight</th>\n",
       "      <th>Item_Fat_Content</th>\n",
       "      <th>Item_Visibility</th>\n",
       "      <th>Item_Type</th>\n",
       "      <th>Item_MRP</th>\n",
       "      <th>Outlet_Identifier</th>\n",
       "      <th>Outlet_Establishment_Year</th>\n",
       "      <th>Outlet_Size</th>\n",
       "      <th>Outlet_Location_Type</th>\n",
       "      <th>Outlet_Type</th>\n",
       "      <th>Item_Outlet_Sales</th>\n",
       "    </tr>\n",
       "  </thead>\n",
       "  <tbody>\n",
       "    <tr>\n",
       "      <th>0</th>\n",
       "      <td>FDA15</td>\n",
       "      <td>9.30</td>\n",
       "      <td>Low Fat</td>\n",
       "      <td>0.016047</td>\n",
       "      <td>Dairy</td>\n",
       "      <td>249.8092</td>\n",
       "      <td>OUT049</td>\n",
       "      <td>1999</td>\n",
       "      <td>Medium</td>\n",
       "      <td>Tier 1</td>\n",
       "      <td>Supermarket Type1</td>\n",
       "      <td>3735.1380</td>\n",
       "    </tr>\n",
       "    <tr>\n",
       "      <th>1</th>\n",
       "      <td>DRC01</td>\n",
       "      <td>5.92</td>\n",
       "      <td>Regular</td>\n",
       "      <td>0.019278</td>\n",
       "      <td>Soft Drinks</td>\n",
       "      <td>48.2692</td>\n",
       "      <td>OUT018</td>\n",
       "      <td>2009</td>\n",
       "      <td>Medium</td>\n",
       "      <td>Tier 3</td>\n",
       "      <td>Supermarket Type2</td>\n",
       "      <td>443.4228</td>\n",
       "    </tr>\n",
       "    <tr>\n",
       "      <th>2</th>\n",
       "      <td>FDN15</td>\n",
       "      <td>17.50</td>\n",
       "      <td>Low Fat</td>\n",
       "      <td>0.016760</td>\n",
       "      <td>Meat</td>\n",
       "      <td>141.6180</td>\n",
       "      <td>OUT049</td>\n",
       "      <td>1999</td>\n",
       "      <td>Medium</td>\n",
       "      <td>Tier 1</td>\n",
       "      <td>Supermarket Type1</td>\n",
       "      <td>2097.2700</td>\n",
       "    </tr>\n",
       "    <tr>\n",
       "      <th>3</th>\n",
       "      <td>FDX07</td>\n",
       "      <td>19.20</td>\n",
       "      <td>Regular</td>\n",
       "      <td>0.000000</td>\n",
       "      <td>Fruits and Vegetables</td>\n",
       "      <td>182.0950</td>\n",
       "      <td>OUT010</td>\n",
       "      <td>1998</td>\n",
       "      <td>NaN</td>\n",
       "      <td>Tier 3</td>\n",
       "      <td>Grocery Store</td>\n",
       "      <td>732.3800</td>\n",
       "    </tr>\n",
       "    <tr>\n",
       "      <th>4</th>\n",
       "      <td>NCD19</td>\n",
       "      <td>8.93</td>\n",
       "      <td>Low Fat</td>\n",
       "      <td>0.000000</td>\n",
       "      <td>Household</td>\n",
       "      <td>53.8614</td>\n",
       "      <td>OUT013</td>\n",
       "      <td>1987</td>\n",
       "      <td>High</td>\n",
       "      <td>Tier 3</td>\n",
       "      <td>Supermarket Type1</td>\n",
       "      <td>994.7052</td>\n",
       "    </tr>\n",
       "  </tbody>\n",
       "</table>\n",
       "</div>"
      ],
      "text/plain": [
       "  Item_Identifier  Item_Weight Item_Fat_Content  Item_Visibility  \\\n",
       "0           FDA15         9.30          Low Fat         0.016047   \n",
       "1           DRC01         5.92          Regular         0.019278   \n",
       "2           FDN15        17.50          Low Fat         0.016760   \n",
       "3           FDX07        19.20          Regular         0.000000   \n",
       "4           NCD19         8.93          Low Fat         0.000000   \n",
       "\n",
       "               Item_Type  Item_MRP Outlet_Identifier  \\\n",
       "0                  Dairy  249.8092            OUT049   \n",
       "1            Soft Drinks   48.2692            OUT018   \n",
       "2                   Meat  141.6180            OUT049   \n",
       "3  Fruits and Vegetables  182.0950            OUT010   \n",
       "4              Household   53.8614            OUT013   \n",
       "\n",
       "   Outlet_Establishment_Year Outlet_Size Outlet_Location_Type  \\\n",
       "0                       1999      Medium               Tier 1   \n",
       "1                       2009      Medium               Tier 3   \n",
       "2                       1999      Medium               Tier 1   \n",
       "3                       1998         NaN               Tier 3   \n",
       "4                       1987        High               Tier 3   \n",
       "\n",
       "         Outlet_Type  Item_Outlet_Sales  \n",
       "0  Supermarket Type1          3735.1380  \n",
       "1  Supermarket Type2           443.4228  \n",
       "2  Supermarket Type1          2097.2700  \n",
       "3      Grocery Store           732.3800  \n",
       "4  Supermarket Type1           994.7052  "
      ]
     },
     "execution_count": 22,
     "metadata": {},
     "output_type": "execute_result"
    }
   ],
   "source": [
    "import pandas as pd\n",
    "\n",
    "\n",
    "# Load CSV data from the 'data' folder\n",
    "logger.logging.info('Loading CSV data from \"data/train.csv\".')\n",
    "data = pd.read_csv('../data/train.csv')\n",
    "\n",
    "# Display the first few rows to verify the data\n",
    "data.head()"
   ]
  },
  {
   "cell_type": "code",
   "execution_count": 23,
   "metadata": {},
   "outputs": [
    {
     "name": "stdout",
     "output_type": "stream",
     "text": [
      "<class 'pandas.core.frame.DataFrame'>\n",
      "RangeIndex: 8523 entries, 0 to 8522\n",
      "Data columns (total 12 columns):\n",
      " #   Column                     Non-Null Count  Dtype  \n",
      "---  ------                     --------------  -----  \n",
      " 0   Item_Identifier            8523 non-null   object \n",
      " 1   Item_Weight                7060 non-null   float64\n",
      " 2   Item_Fat_Content           8523 non-null   object \n",
      " 3   Item_Visibility            8523 non-null   float64\n",
      " 4   Item_Type                  8523 non-null   object \n",
      " 5   Item_MRP                   8523 non-null   float64\n",
      " 6   Outlet_Identifier          8523 non-null   object \n",
      " 7   Outlet_Establishment_Year  8523 non-null   int64  \n",
      " 8   Outlet_Size                6113 non-null   object \n",
      " 9   Outlet_Location_Type       8523 non-null   object \n",
      " 10  Outlet_Type                8523 non-null   object \n",
      " 11  Item_Outlet_Sales          8523 non-null   float64\n",
      "dtypes: float64(4), int64(1), object(7)\n",
      "memory usage: 799.2+ KB\n"
     ]
    }
   ],
   "source": [
    "data.info()"
   ]
  },
  {
   "cell_type": "code",
   "execution_count": 24,
   "metadata": {},
   "outputs": [
    {
     "data": {
      "text/plain": [
       "(8523, 12)"
      ]
     },
     "execution_count": 24,
     "metadata": {},
     "output_type": "execute_result"
    }
   ],
   "source": [
    "data.shape"
   ]
  },
  {
   "cell_type": "code",
   "execution_count": 25,
   "metadata": {},
   "outputs": [],
   "source": [
    "\n",
    "# Iterate over the rows in the DataFrame and insert each row into the Cassandra table\n",
    "logger.logging.info('Inserting rows into the sales_data table.')\n",
    "for index, row in data.iterrows():\n",
    "    # Prepare the INSERT query\n",
    "    query = \"\"\"\n",
    "    INSERT INTO sales_data (\n",
    "        item_identifier, item_weight, item_fat_content, item_visibility, item_type, item_mrp,\n",
    "        outlet_identifier, outlet_establishment_year, outlet_size, outlet_location_type, outlet_type, item_outlet_sales\n",
    "    ) VALUES (%s, %s, %s, %s, %s, %s, %s, %s, %s, %s, %s, %s)\n",
    "    \"\"\"\n",
    "    \n",
    "    # Extract values from the current row and execute the query\n",
    "    session.execute(query, (\n",
    "        row['Item_Identifier'], \n",
    "        row['Item_Weight'] if pd.notnull(row['Item_Weight']) else None,  # Handle NaN\n",
    "        row['Item_Fat_Content'], \n",
    "        row['Item_Visibility'], \n",
    "        row['Item_Type'], \n",
    "        row['Item_MRP'], \n",
    "        row['Outlet_Identifier'], \n",
    "        int(row['Outlet_Establishment_Year']),  # Ensure the year is an integer\n",
    "        row['Outlet_Size'] if pd.notnull(row['Outlet_Size']) else None,  # Handle NaN\n",
    "        row['Outlet_Location_Type'], \n",
    "        row['Outlet_Type'], \n",
    "        row['Item_Outlet_Sales']\n",
    "    ))\n",
    "\n",
    "logger.logging.info(\"Data inserted successfully.\")"
   ]
  },
  {
   "cell_type": "code",
   "execution_count": 7,
   "metadata": {},
   "outputs": [
    {
     "name": "stdout",
     "output_type": "stream",
     "text": [
      "Row(item_identifier='FDX40', item_fat_content='Low Fat', item_mrp=39.91640090942383, item_outlet_sales=38.61640167236328, item_type='Frozen Foods', item_visibility=0.17332421243190765, item_weight=None, outlet_establishment_year=1985, outlet_identifier='OUT019', outlet_location_type='Tier 1', outlet_size='Small', outlet_type='Grocery Store')\n",
      "Row(item_identifier='FDA58', item_fat_content='Low Fat', item_mrp=235.89320373535156, item_outlet_sales=942.7728271484375, item_type='Snack Foods', item_visibility=0.10375123471021652, item_weight=9.395000457763672, outlet_establishment_year=1997, outlet_identifier='OUT046', outlet_location_type='Tier 1', outlet_size='Small', outlet_type='Supermarket Type1')\n",
      "Row(item_identifier='FDB05', item_fat_content='Low Fat', item_mrp=247.27760314941406, item_outlet_sales=5944.26220703125, item_type='Frozen Foods', item_visibility=0.08332769572734833, item_weight=5.15500020980835, outlet_establishment_year=1999, outlet_identifier='OUT049', outlet_location_type='Tier 1', outlet_size='Medium', outlet_type='Supermarket Type1')\n",
      "Row(item_identifier='FDP20', item_fat_content='Low Fat', item_mrp=128.1020050048828, item_outlet_sales=1265.02001953125, item_type='Fruits and Vegetables', item_visibility=0.045631229877471924, item_weight=19.850000381469727, outlet_establishment_year=1987, outlet_identifier='OUT013', outlet_location_type='Tier 3', outlet_size='High', outlet_type='Supermarket Type1')\n",
      "Row(item_identifier='DRK11', item_fat_content='Low Fat', item_mrp=149.93919372558594, item_outlet_sales=1938.8095703125, item_type='Hard Drinks', item_visibility=0.01078115776181221, item_weight=8.210000038146973, outlet_establishment_year=1999, outlet_identifier='OUT049', outlet_location_type='Tier 1', outlet_size='Medium', outlet_type='Supermarket Type1')\n",
      "Row(item_identifier='FDR35', item_fat_content='Low Fat', item_mrp=197.27420043945312, item_outlet_sales=3782.409912109375, item_type='Breads', item_visibility=0.020729901269078255, item_weight=12.5, outlet_establishment_year=1999, outlet_identifier='OUT049', outlet_location_type='Tier 1', outlet_size='Medium', outlet_type='Supermarket Type1')\n",
      "Row(item_identifier='NCZ17', item_fat_content='Low Fat', item_mrp=36.65060043334961, item_outlet_sales=493.3577880859375, item_type='Health and Hygiene', item_visibility=0.07975521683692932, item_weight=12.149999618530273, outlet_establishment_year=2009, outlet_identifier='OUT018', outlet_location_type='Tier 3', outlet_size='Medium', outlet_type='Supermarket Type2')\n",
      "Row(item_identifier='FDX03', item_fat_content='Regular', item_mrp=45.674400329589844, item_outlet_sales=633.8416137695312, item_type='Meat', item_visibility=0.06121987849473953, item_weight=15.850000381469727, outlet_establishment_year=2002, outlet_identifier='OUT045', outlet_location_type='Tier 2', outlet_size=None, outlet_type='Supermarket Type1')\n",
      "Row(item_identifier='FDG57', item_fat_content='Low Fat', item_mrp=49.40340042114258, item_outlet_sales=194.41360473632812, item_type='Fruits and Vegetables', item_visibility=0.12101263552904129, item_weight=14.699999809265137, outlet_establishment_year=1998, outlet_identifier='OUT010', outlet_location_type='Tier 3', outlet_size=None, outlet_type='Grocery Store')\n",
      "Row(item_identifier='FDE50', item_fat_content='Regular', item_mrp=188.25559997558594, item_outlet_sales=3379.600830078125, item_type='Canned', item_visibility=0.01620258204638958, item_weight=19.700000762939453, outlet_establishment_year=2004, outlet_identifier='OUT035', outlet_location_type='Tier 2', outlet_size='Small', outlet_type='Supermarket Type1')\n"
     ]
    }
   ],
   "source": [
    "logger.logging.info(\"Fetching 10 rows to verify the data.\")\n",
    "rows = session.execute(\"SELECT * FROM sales_data LIMIT 10\")\n",
    "for row in rows:\n",
    "    logger.logging.info(f\"Row: {row}\")\n",
    "    print(row)"
   ]
  },
  {
   "cell_type": "code",
   "execution_count": 30,
   "metadata": {},
   "outputs": [],
   "source": [
    "rows = session.execute(\"SELECT * FROM sales_data\")\n",
    "# Convert fetched rows to a list of dictionaries\n",
    "data_list = [row._asdict() for row in rows]\n",
    "\n",
    "# Create a DataFrame from the list of dictionaries\n",
    "import pandas as pd\n",
    "df = pd.DataFrame(data_list)\n",
    "\n",
    "logger.logging.info('importing dataset from cassandra database to dataframe')\n",
    "\n"
   ]
  },
  {
   "cell_type": "code",
   "execution_count": 31,
   "metadata": {},
   "outputs": [
    {
     "data": {
      "text/html": [
       "<div>\n",
       "<style scoped>\n",
       "    .dataframe tbody tr th:only-of-type {\n",
       "        vertical-align: middle;\n",
       "    }\n",
       "\n",
       "    .dataframe tbody tr th {\n",
       "        vertical-align: top;\n",
       "    }\n",
       "\n",
       "    .dataframe thead th {\n",
       "        text-align: right;\n",
       "    }\n",
       "</style>\n",
       "<table border=\"1\" class=\"dataframe\">\n",
       "  <thead>\n",
       "    <tr style=\"text-align: right;\">\n",
       "      <th></th>\n",
       "      <th>item_identifier</th>\n",
       "      <th>item_fat_content</th>\n",
       "      <th>item_mrp</th>\n",
       "      <th>item_outlet_sales</th>\n",
       "      <th>item_type</th>\n",
       "      <th>item_visibility</th>\n",
       "      <th>item_weight</th>\n",
       "      <th>outlet_establishment_year</th>\n",
       "      <th>outlet_identifier</th>\n",
       "      <th>outlet_location_type</th>\n",
       "      <th>outlet_size</th>\n",
       "      <th>outlet_type</th>\n",
       "    </tr>\n",
       "  </thead>\n",
       "  <tbody>\n",
       "    <tr>\n",
       "      <th>0</th>\n",
       "      <td>FDX40</td>\n",
       "      <td>Low Fat</td>\n",
       "      <td>39.916401</td>\n",
       "      <td>38.616402</td>\n",
       "      <td>Frozen Foods</td>\n",
       "      <td>0.173324</td>\n",
       "      <td>NaN</td>\n",
       "      <td>1985</td>\n",
       "      <td>OUT019</td>\n",
       "      <td>Tier 1</td>\n",
       "      <td>Small</td>\n",
       "      <td>Grocery Store</td>\n",
       "    </tr>\n",
       "    <tr>\n",
       "      <th>1</th>\n",
       "      <td>FDA58</td>\n",
       "      <td>Low Fat</td>\n",
       "      <td>235.893204</td>\n",
       "      <td>942.772827</td>\n",
       "      <td>Snack Foods</td>\n",
       "      <td>0.103751</td>\n",
       "      <td>9.395</td>\n",
       "      <td>1997</td>\n",
       "      <td>OUT046</td>\n",
       "      <td>Tier 1</td>\n",
       "      <td>Small</td>\n",
       "      <td>Supermarket Type1</td>\n",
       "    </tr>\n",
       "    <tr>\n",
       "      <th>2</th>\n",
       "      <td>FDB05</td>\n",
       "      <td>Low Fat</td>\n",
       "      <td>247.277603</td>\n",
       "      <td>5944.262207</td>\n",
       "      <td>Frozen Foods</td>\n",
       "      <td>0.083328</td>\n",
       "      <td>5.155</td>\n",
       "      <td>1999</td>\n",
       "      <td>OUT049</td>\n",
       "      <td>Tier 1</td>\n",
       "      <td>Medium</td>\n",
       "      <td>Supermarket Type1</td>\n",
       "    </tr>\n",
       "    <tr>\n",
       "      <th>3</th>\n",
       "      <td>FDP20</td>\n",
       "      <td>Low Fat</td>\n",
       "      <td>128.102005</td>\n",
       "      <td>1265.020020</td>\n",
       "      <td>Fruits and Vegetables</td>\n",
       "      <td>0.045631</td>\n",
       "      <td>19.850</td>\n",
       "      <td>1987</td>\n",
       "      <td>OUT013</td>\n",
       "      <td>Tier 3</td>\n",
       "      <td>High</td>\n",
       "      <td>Supermarket Type1</td>\n",
       "    </tr>\n",
       "    <tr>\n",
       "      <th>4</th>\n",
       "      <td>DRK11</td>\n",
       "      <td>Low Fat</td>\n",
       "      <td>149.939194</td>\n",
       "      <td>1938.809570</td>\n",
       "      <td>Hard Drinks</td>\n",
       "      <td>0.010781</td>\n",
       "      <td>8.210</td>\n",
       "      <td>1999</td>\n",
       "      <td>OUT049</td>\n",
       "      <td>Tier 1</td>\n",
       "      <td>Medium</td>\n",
       "      <td>Supermarket Type1</td>\n",
       "    </tr>\n",
       "  </tbody>\n",
       "</table>\n",
       "</div>"
      ],
      "text/plain": [
       "  item_identifier item_fat_content    item_mrp  item_outlet_sales  \\\n",
       "0           FDX40          Low Fat   39.916401          38.616402   \n",
       "1           FDA58          Low Fat  235.893204         942.772827   \n",
       "2           FDB05          Low Fat  247.277603        5944.262207   \n",
       "3           FDP20          Low Fat  128.102005        1265.020020   \n",
       "4           DRK11          Low Fat  149.939194        1938.809570   \n",
       "\n",
       "               item_type  item_visibility  item_weight  \\\n",
       "0           Frozen Foods         0.173324          NaN   \n",
       "1            Snack Foods         0.103751        9.395   \n",
       "2           Frozen Foods         0.083328        5.155   \n",
       "3  Fruits and Vegetables         0.045631       19.850   \n",
       "4            Hard Drinks         0.010781        8.210   \n",
       "\n",
       "   outlet_establishment_year outlet_identifier outlet_location_type  \\\n",
       "0                       1985            OUT019               Tier 1   \n",
       "1                       1997            OUT046               Tier 1   \n",
       "2                       1999            OUT049               Tier 1   \n",
       "3                       1987            OUT013               Tier 3   \n",
       "4                       1999            OUT049               Tier 1   \n",
       "\n",
       "  outlet_size        outlet_type  \n",
       "0       Small      Grocery Store  \n",
       "1       Small  Supermarket Type1  \n",
       "2      Medium  Supermarket Type1  \n",
       "3        High  Supermarket Type1  \n",
       "4      Medium  Supermarket Type1  "
      ]
     },
     "execution_count": 31,
     "metadata": {},
     "output_type": "execute_result"
    }
   ],
   "source": [
    "logger.logging.info(f\"Fetched data:\\n{df.head()}\")\n",
    "df.head()\n"
   ]
  },
  {
   "cell_type": "code",
   "execution_count": 32,
   "metadata": {},
   "outputs": [],
   "source": [
    "# Save the DataFrame to a CSV file\n",
    "csv_file_path = os.path.join(os.getcwd(),'train_df.csv')\n",
    "df.to_csv(csv_file_path, index=False)\n",
    "logger.logging.info(f\"Data has been saved to {csv_file_path}\")"
   ]
  },
  {
   "cell_type": "code",
   "execution_count": 33,
   "metadata": {},
   "outputs": [],
   "source": [
    "\n",
    "# Close the session and cluster connection\n",
    "session.shutdown()\n",
    "cluster.shutdown()\n",
    "logger.logging.info('shutting down both session and cluster from cassandra database')"
   ]
  },
  {
   "cell_type": "code",
   "execution_count": 34,
   "metadata": {},
   "outputs": [
    {
     "data": {
      "text/plain": [
       "(1559, 12)"
      ]
     },
     "execution_count": 34,
     "metadata": {},
     "output_type": "execute_result"
    }
   ],
   "source": [
    "df.shape"
   ]
  },
  {
   "cell_type": "code",
   "execution_count": 35,
   "metadata": {},
   "outputs": [
    {
     "name": "stdout",
     "output_type": "stream",
     "text": [
      "<class 'pandas.core.frame.DataFrame'>\n",
      "RangeIndex: 1559 entries, 0 to 1558\n",
      "Data columns (total 12 columns):\n",
      " #   Column                     Non-Null Count  Dtype  \n",
      "---  ------                     --------------  -----  \n",
      " 0   item_identifier            1559 non-null   object \n",
      " 1   item_fat_content           1559 non-null   object \n",
      " 2   item_mrp                   1559 non-null   float64\n",
      " 3   item_outlet_sales          1559 non-null   float64\n",
      " 4   item_type                  1559 non-null   object \n",
      " 5   item_visibility            1559 non-null   float64\n",
      " 6   item_weight                1273 non-null   float64\n",
      " 7   outlet_establishment_year  1559 non-null   int64  \n",
      " 8   outlet_identifier          1559 non-null   object \n",
      " 9   outlet_location_type       1559 non-null   object \n",
      " 10  outlet_size                1145 non-null   object \n",
      " 11  outlet_type                1559 non-null   object \n",
      "dtypes: float64(4), int64(1), object(7)\n",
      "memory usage: 146.3+ KB\n"
     ]
    }
   ],
   "source": [
    "df.info()"
   ]
  },
  {
   "cell_type": "code",
   "execution_count": 36,
   "metadata": {},
   "outputs": [
    {
     "data": {
      "text/plain": [
       "item_identifier                0\n",
       "item_fat_content               0\n",
       "item_mrp                       0\n",
       "item_outlet_sales              0\n",
       "item_type                      0\n",
       "item_visibility                0\n",
       "item_weight                  286\n",
       "outlet_establishment_year      0\n",
       "outlet_identifier              0\n",
       "outlet_location_type           0\n",
       "outlet_size                  414\n",
       "outlet_type                    0\n",
       "dtype: int64"
      ]
     },
     "execution_count": 36,
     "metadata": {},
     "output_type": "execute_result"
    }
   ],
   "source": [
    "df.isna().sum()"
   ]
  },
  {
   "cell_type": "code",
   "execution_count": null,
   "metadata": {},
   "outputs": [],
   "source": []
  }
 ],
 "metadata": {
  "kernelspec": {
   "display_name": "Python 3",
   "language": "python",
   "name": "python3"
  },
  "language_info": {
   "codemirror_mode": {
    "name": "ipython",
    "version": 3
   },
   "file_extension": ".py",
   "mimetype": "text/x-python",
   "name": "python",
   "nbconvert_exporter": "python",
   "pygments_lexer": "ipython3",
   "version": "3.8.20"
  }
 },
 "nbformat": 4,
 "nbformat_minor": 2
}
